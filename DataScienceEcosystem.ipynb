{
 "cells": [
  {
   "cell_type": "markdown",
   "id": "5afc1053-e57b-429b-b72e-58e27e70945c",
   "metadata": {},
   "source": [
    "<h1>Data Science Tools and Ecosystem</h1>"
   ]
  },
  {
   "cell_type": "markdown",
   "id": "c7d76504-14f0-470c-84a9-ffb776d34ae3",
   "metadata": {},
   "source": [
    "In this notebook, Data Science Tools and Ecosystem are summarized."
   ]
  },
  {
   "cell_type": "markdown",
   "id": "d0d19aca-8cfa-43aa-85d3-70160a06ac96",
   "metadata": {},
   "source": [
    "Some of the popular languages that Data Scientists use are:\n",
    "1. R\n",
    "2. Python\n",
    "3. Java"
   ]
  },
  {
   "cell_type": "markdown",
   "id": "86be2d70-3946-44c1-8ee4-5829e4eb103f",
   "metadata": {},
   "source": [
    "Some of the commonly used libraries used by Data Scientists include:\n",
    "1. Keras\n",
    "2. TensorFlow\n",
    "3. Plotly"
   ]
  },
  {
   "cell_type": "markdown",
   "id": "27d4143e-3389-421c-923c-8e0817ed96fe",
   "metadata": {},
   "source": [
    "|Data Science Tools|\n",
    "|:----------------:|\n",
    "|Jupiter|\n",
    "|RStudio|\n",
    "|Spyder|"
   ]
  },
  {
   "cell_type": "markdown",
   "id": "1fe03fc7-13d4-4ca3-ba01-3d4e757884da",
   "metadata": {},
   "source": [
    "<h3>Below are a few examples of evaluating arithmetic expressions in Python</h3>"
   ]
  },
  {
   "cell_type": "code",
   "execution_count": 1,
   "id": "5c130a7b-5b83-451e-9e55-8959ed880c8c",
   "metadata": {
    "tags": []
   },
   "outputs": [
    {
     "data": {
      "text/plain": [
       "17"
      ]
     },
     "execution_count": 1,
     "metadata": {},
     "output_type": "execute_result"
    }
   ],
   "source": [
    "# This a simple arithmetic expression to mutiply then add integers\n",
    "(3*4)+5"
   ]
  },
  {
   "cell_type": "code",
   "execution_count": 2,
   "id": "d6792f3b-6049-4400-bbc3-cea56f84d010",
   "metadata": {
    "tags": []
   },
   "outputs": [
    {
     "data": {
      "text/plain": [
       "3.3333333333333335"
      ]
     },
     "execution_count": 2,
     "metadata": {},
     "output_type": "execute_result"
    }
   ],
   "source": [
    "# This will convert 200 minutes to hours by diving by 60\n",
    "200/60"
   ]
  },
  {
   "cell_type": "markdown",
   "id": "1c211df6-45f6-44de-8aea-e5d296a13c2b",
   "metadata": {
    "tags": []
   },
   "source": [
    "<b>Objectives:</b>\n",
    "<ul>\n",
    "<li>List popular languages for Data Science</li>\n",
    "<li>List commonly used librares used by Data Science</li>\n",
    "<li>Simple arithmetic expression</li>\n",
    "</ul>"
   ]
  },
  {
   "cell_type": "markdown",
   "id": "3a1d3a1c-15b6-491c-8a2c-e2b236475f37",
   "metadata": {},
   "source": [
    "<h2>Author Alan</h2>"
   ]
  }
 ],
 "metadata": {
  "kernelspec": {
   "display_name": "Python",
   "language": "python",
   "name": "conda-env-python-py"
  },
  "language_info": {
   "codemirror_mode": {
    "name": "ipython",
    "version": 3
   },
   "file_extension": ".py",
   "mimetype": "text/x-python",
   "name": "python",
   "nbconvert_exporter": "python",
   "pygments_lexer": "ipython3",
   "version": "3.7.12"
  }
 },
 "nbformat": 4,
 "nbformat_minor": 5
}
